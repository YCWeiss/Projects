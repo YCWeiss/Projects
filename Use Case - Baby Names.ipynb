{
 "cells": [
  {
   "cell_type": "code",
   "execution_count": 1,
   "id": "99b112b4",
   "metadata": {},
   "outputs": [],
   "source": [
    "# Imports\n",
    "import math\n",
    "import collections\n",
    "\n",
    "import numpy as np\n",
    "import pandas as pd\n",
    "import matplotlib as pp\n",
    "import matplotlib.pyplot as plt\n",
    "\n",
    "import zipfile\n",
    "import os\n",
    "\n",
    "%matplotlib inline"
   ]
  },
  {
   "cell_type": "code",
   "execution_count": 2,
   "id": "83231129",
   "metadata": {},
   "outputs": [],
   "source": [
    "pd.options.display.max_rows = 8"
   ]
  },
  {
   "cell_type": "code",
   "execution_count": 3,
   "id": "2e26f862",
   "metadata": {},
   "outputs": [
    {
     "data": {
      "text/plain": [
       "'C:\\\\Users\\\\yaelw'"
      ]
     },
     "execution_count": 3,
     "metadata": {},
     "output_type": "execute_result"
    }
   ],
   "source": [
    "os.getcwd()"
   ]
  },
  {
   "cell_type": "code",
   "execution_count": 4,
   "id": "e4a9c214",
   "metadata": {},
   "outputs": [
    {
     "data": {
      "text/plain": [
       "'C:\\\\Users\\\\yaelw\\\\Documents\\\\Projects\\\\LinkedIn Learning Python Data Analysis\\\\Ch 7 - Use Case Baby Names'"
      ]
     },
     "execution_count": 4,
     "metadata": {},
     "output_type": "execute_result"
    }
   ],
   "source": [
    "# Make sure to use the correct current working directory \n",
    "os.chdir('Documents/Projects/LinkedIn Learning Python Data Analysis/Ch 7 - Use Case Baby Names')\n",
    "os.getcwd()"
   ]
  },
  {
   "cell_type": "code",
   "execution_count": 5,
   "id": "fce71651",
   "metadata": {},
   "outputs": [],
   "source": [
    "zipfile.ZipFile('names.zip').extractall('.')"
   ]
  },
  {
   "cell_type": "code",
   "execution_count": 6,
   "id": "25672445",
   "metadata": {},
   "outputs": [
    {
     "name": "stdout",
     "output_type": "stream",
     "text": [
      " Volume in drive C is OS\n",
      " Volume Serial Number is 6EE3-AAC3\n",
      "\n",
      " Directory of C:\\Users\\yaelw\\Documents\\Projects\\LinkedIn Learning Python Data Analysis\\Ch 7 - Use Case Baby Names\n",
      "\n",
      "07/23/2023  02:15 PM    <DIR>          .\n",
      "07/23/2023  04:31 PM    <DIR>          ..\n",
      "07/23/2023  02:01 PM    <DIR>          .ipynb_checkpoints\n",
      "07/23/2023  02:01 PM             3,716 07_02_loading.ipynb\n",
      "07/23/2023  02:01 PM             5,213 07_03_popularity.ipynb\n",
      "07/23/2023  02:01 PM             5,425 07_04_topten.ipynb\n",
      "07/23/2023  02:01 PM             4,285 07_06_solution.ipynb\n",
      "07/24/2023  12:13 PM         8,652,542 allyears.csv.gz\n",
      "07/23/2023  02:06 PM    <DIR>          names\n",
      "07/23/2023  02:01 PM         8,528,645 names.zip\n",
      "               6 File(s)     17,199,826 bytes\n",
      "               4 Dir(s)  349,710,467,072 bytes free\n"
     ]
    }
   ],
   "source": [
    "ls"
   ]
  },
  {
   "cell_type": "code",
   "execution_count": 7,
   "id": "cd9f066f",
   "metadata": {},
   "outputs": [
    {
     "name": "stdout",
     "output_type": "stream",
     "text": [
      " Volume in drive C is OS\n",
      " Volume Serial Number is 6EE3-AAC3\n",
      "\n",
      " Directory of C:\\Users\\yaelw\\Documents\\Projects\\LinkedIn Learning Python Data Analysis\\Ch 7 - Use Case Baby Names\\names\n",
      "\n",
      "07/23/2023  02:06 PM    <DIR>          .\n",
      "07/23/2023  02:15 PM    <DIR>          ..\n",
      "07/26/2023  11:15 AM           316,364 NationalReadMe.pdf\n",
      "07/26/2023  11:15 AM            24,933 yob1880.txt\n",
      "07/26/2023  11:15 AM            24,065 yob1881.txt\n",
      "07/26/2023  11:15 AM            26,559 yob1882.txt\n",
      "07/26/2023  11:15 AM            26,002 yob1883.txt\n",
      "07/26/2023  11:15 AM            28,670 yob1884.txt\n",
      "07/26/2023  11:15 AM            28,625 yob1885.txt\n",
      "07/26/2023  11:15 AM            29,822 yob1886.txt\n",
      "07/26/2023  11:15 AM            29,531 yob1887.txt\n",
      "07/26/2023  11:15 AM            33,064 yob1888.txt\n",
      "07/26/2023  11:15 AM            32,297 yob1889.txt\n",
      "07/26/2023  11:15 AM            33,621 yob1890.txt\n",
      "07/26/2023  11:15 AM            33,186 yob1891.txt\n",
      "07/26/2023  11:15 AM            36,542 yob1892.txt\n",
      "07/26/2023  11:15 AM            35,433 yob1893.txt\n",
      "07/26/2023  11:15 AM            36,817 yob1894.txt\n",
      "07/26/2023  11:15 AM            38,232 yob1895.txt\n",
      "07/26/2023  11:15 AM            38,747 yob1896.txt\n",
      "07/26/2023  11:15 AM            37,936 yob1897.txt\n",
      "07/26/2023  11:15 AM            40,924 yob1898.txt\n",
      "07/26/2023  11:15 AM            38,141 yob1899.txt\n",
      "07/26/2023  11:15 AM            46,859 yob1900.txt\n",
      "07/26/2023  11:15 AM            39,584 yob1901.txt\n",
      "07/26/2023  11:15 AM            42,284 yob1902.txt\n",
      "07/26/2023  11:15 AM            42,679 yob1903.txt\n",
      "07/26/2023  11:15 AM            44,808 yob1904.txt\n",
      "07/26/2023  11:15 AM            46,003 yob1905.txt\n",
      "07/26/2023  11:15 AM            45,845 yob1906.txt\n",
      "07/26/2023  11:15 AM            49,829 yob1907.txt\n",
      "07/26/2023  11:15 AM            50,841 yob1908.txt\n",
      "07/26/2023  11:15 AM            53,501 yob1909.txt\n",
      "07/26/2023  11:15 AM            58,710 yob1910.txt\n",
      "07/26/2023  11:15 AM            61,761 yob1911.txt\n",
      "07/26/2023  11:15 AM            80,729 yob1912.txt\n",
      "07/26/2023  11:15 AM            88,705 yob1913.txt\n",
      "07/26/2023  11:15 AM           101,543 yob1914.txt\n",
      "07/26/2023  11:15 AM           119,431 yob1915.txt\n",
      "07/26/2023  11:15 AM           123,876 yob1916.txt\n",
      "07/26/2023  11:15 AM           126,774 yob1917.txt\n",
      "07/26/2023  11:15 AM           133,055 yob1918.txt\n",
      "07/26/2023  11:15 AM           132,729 yob1919.txt\n",
      "07/26/2023  11:15 AM           137,757 yob1920.txt\n",
      "07/26/2023  11:15 AM           139,192 yob1921.txt\n",
      "07/26/2023  11:15 AM           138,159 yob1922.txt\n",
      "07/26/2023  11:15 AM           136,669 yob1923.txt\n",
      "07/26/2023  11:15 AM           139,609 yob1924.txt\n",
      "07/26/2023  11:15 AM           136,776 yob1925.txt\n",
      "07/26/2023  11:15 AM           134,302 yob1926.txt\n",
      "07/26/2023  11:15 AM           133,882 yob1927.txt\n",
      "07/26/2023  11:15 AM           130,705 yob1928.txt\n",
      "07/26/2023  11:15 AM           126,445 yob1929.txt\n",
      "07/26/2023  11:15 AM           125,956 yob1930.txt\n",
      "07/26/2023  11:15 AM           119,615 yob1931.txt\n",
      "07/26/2023  11:15 AM           120,774 yob1932.txt\n",
      "07/26/2023  11:15 AM           115,898 yob1933.txt\n",
      "07/26/2023  11:15 AM           118,063 yob1934.txt\n",
      "07/26/2023  11:15 AM           116,298 yob1935.txt\n",
      "07/26/2023  11:15 AM           114,342 yob1936.txt\n",
      "07/26/2023  11:15 AM           115,342 yob1937.txt\n",
      "07/26/2023  11:15 AM           116,361 yob1938.txt\n",
      "07/26/2023  11:15 AM           114,798 yob1939.txt\n",
      "07/26/2023  11:15 AM           115,651 yob1940.txt\n",
      "07/26/2023  11:15 AM           117,219 yob1941.txt\n",
      "07/26/2023  11:15 AM           121,646 yob1942.txt\n",
      "07/26/2023  11:15 AM           121,517 yob1943.txt\n",
      "07/26/2023  11:15 AM           118,114 yob1944.txt\n",
      "07/26/2023  11:15 AM           116,520 yob1945.txt\n",
      "07/26/2023  11:15 AM           125,468 yob1946.txt\n",
      "07/26/2023  11:15 AM           134,063 yob1947.txt\n",
      "07/26/2023  11:15 AM           132,440 yob1948.txt\n",
      "07/26/2023  11:15 AM           132,865 yob1949.txt\n",
      "07/26/2023  11:15 AM           133,226 yob1950.txt\n",
      "07/26/2023  11:15 AM           135,493 yob1951.txt\n",
      "07/26/2023  11:15 AM           137,646 yob1952.txt\n",
      "07/26/2023  11:15 AM           140,143 yob1953.txt\n",
      "07/26/2023  11:15 AM           141,667 yob1954.txt\n",
      "07/26/2023  11:15 AM           143,627 yob1955.txt\n",
      "07/26/2023  11:15 AM           146,563 yob1956.txt\n",
      "07/26/2023  11:15 AM           149,144 yob1957.txt\n",
      "07/26/2023  11:15 AM           148,695 yob1958.txt\n",
      "07/26/2023  11:15 AM           151,947 yob1959.txt\n",
      "07/26/2023  11:15 AM           154,030 yob1960.txt\n",
      "07/26/2023  11:15 AM           157,606 yob1961.txt\n",
      "07/26/2023  11:15 AM           157,996 yob1962.txt\n",
      "07/26/2023  11:15 AM           158,901 yob1963.txt\n",
      "07/26/2023  11:15 AM           160,568 yob1964.txt\n",
      "07/26/2023  11:15 AM           155,011 yob1965.txt\n",
      "07/26/2023  11:15 AM           157,419 yob1966.txt\n",
      "07/26/2023  11:15 AM           160,606 yob1967.txt\n",
      "07/26/2023  11:15 AM           167,452 yob1968.txt\n",
      "07/26/2023  11:15 AM           177,991 yob1969.txt\n",
      "07/26/2023  11:15 AM           191,516 yob1970.txt\n",
      "07/26/2023  11:15 AM           198,166 yob1971.txt\n",
      "07/26/2023  11:15 AM           199,468 yob1972.txt\n",
      "07/26/2023  11:15 AM           203,048 yob1973.txt\n",
      "07/26/2023  11:15 AM           210,504 yob1974.txt\n",
      "07/26/2023  11:15 AM           219,193 yob1975.txt\n",
      "07/26/2023  11:15 AM           224,915 yob1976.txt\n",
      "07/26/2023  11:15 AM           235,016 yob1977.txt\n",
      "07/26/2023  11:15 AM           235,976 yob1978.txt\n",
      "07/26/2023  11:15 AM           246,474 yob1979.txt\n",
      "07/26/2023  11:15 AM           251,455 yob1980.txt\n",
      "07/26/2023  11:15 AM           251,898 yob1981.txt\n",
      "07/26/2023  11:15 AM           254,894 yob1982.txt\n",
      "07/26/2023  11:15 AM           250,968 yob1983.txt\n",
      "07/26/2023  11:15 AM           252,735 yob1984.txt\n",
      "07/26/2023  11:15 AM           260,330 yob1985.txt\n",
      "07/26/2023  11:15 AM           268,116 yob1986.txt\n",
      "07/26/2023  11:15 AM           278,403 yob1987.txt\n",
      "07/26/2023  11:15 AM           291,074 yob1988.txt\n",
      "07/26/2023  11:15 AM           309,554 yob1989.txt\n",
      "07/26/2023  11:15 AM           322,047 yob1990.txt\n",
      "07/26/2023  11:15 AM           327,203 yob1991.txt\n",
      "07/26/2023  11:15 AM           331,559 yob1992.txt\n",
      "07/26/2023  11:15 AM           337,914 yob1993.txt\n",
      "07/26/2023  11:15 AM           338,223 yob1994.txt\n",
      "07/26/2023  11:15 AM           339,136 yob1995.txt\n",
      "07/26/2023  11:15 AM           343,055 yob1996.txt\n",
      "07/26/2023  11:15 AM           350,104 yob1997.txt\n",
      "07/26/2023  11:15 AM           361,635 yob1998.txt\n",
      "07/26/2023  11:15 AM           369,390 yob1999.txt\n",
      "07/26/2023  11:15 AM           385,101 yob2000.txt\n",
      "07/26/2023  11:15 AM           391,165 yob2001.txt\n",
      "07/26/2023  11:15 AM           394,821 yob2002.txt\n",
      "07/26/2023  11:15 AM           402,610 yob2003.txt\n",
      "07/26/2023  11:15 AM           413,495 yob2004.txt\n",
      "07/26/2023  11:15 AM           420,214 yob2005.txt\n",
      "07/26/2023  11:15 AM           440,363 yob2006.txt\n",
      "07/26/2023  11:15 AM           451,397 yob2007.txt\n",
      "07/26/2023  11:15 AM           452,865 yob2008.txt\n",
      "07/26/2023  11:15 AM           448,033 yob2009.txt\n",
      "07/26/2023  11:15 AM           439,608 yob2010.txt\n",
      "07/26/2023  11:15 AM           437,159 yob2011.txt\n",
      "07/26/2023  11:15 AM           435,049 yob2012.txt\n",
      "07/26/2023  11:15 AM           428,768 yob2013.txt\n",
      "07/26/2023  11:15 AM           428,107 yob2014.txt\n",
      "07/26/2023  11:15 AM           426,134 yob2015.txt\n",
      "07/26/2023  11:15 AM           424,451 yob2016.txt\n",
      "07/26/2023  11:15 AM           418,588 yob2017.txt\n",
      "07/26/2023  11:15 AM           411,162 yob2018.txt\n",
      "             140 File(s)     25,564,293 bytes\n",
      "               2 Dir(s)  349,710,467,072 bytes free\n"
     ]
    }
   ],
   "source": [
    "ls names"
   ]
  },
  {
   "cell_type": "code",
   "execution_count": 8,
   "id": "83284d3b",
   "metadata": {},
   "outputs": [
    {
     "data": {
      "text/plain": [
       "['Sophia,F,21842\\n',\n",
       " 'Isabella,F,19910\\n',\n",
       " 'Emma,F,18803\\n',\n",
       " 'Olivia,F,17322\\n',\n",
       " 'Ava,F,15503\\n',\n",
       " 'Emily,F,14258\\n',\n",
       " 'Abigail,F,13248\\n',\n",
       " 'Madison,F,12389\\n',\n",
       " 'Mia,F,11530\\n',\n",
       " 'Chloe,F,10991\\n']"
      ]
     },
     "execution_count": 8,
     "metadata": {},
     "output_type": "execute_result"
    }
   ],
   "source": [
    "open('names/yob2011.txt', 'r').readlines()[:10]"
   ]
  },
  {
   "cell_type": "code",
   "execution_count": 9,
   "id": "ee7a2c31",
   "metadata": {},
   "outputs": [
    {
     "data": {
      "text/html": [
       "<div>\n",
       "<style scoped>\n",
       "    .dataframe tbody tr th:only-of-type {\n",
       "        vertical-align: middle;\n",
       "    }\n",
       "\n",
       "    .dataframe tbody tr th {\n",
       "        vertical-align: top;\n",
       "    }\n",
       "\n",
       "    .dataframe thead th {\n",
       "        text-align: right;\n",
       "    }\n",
       "</style>\n",
       "<table border=\"1\" class=\"dataframe\">\n",
       "  <thead>\n",
       "    <tr style=\"text-align: right;\">\n",
       "      <th></th>\n",
       "      <th>Sophia</th>\n",
       "      <th>F</th>\n",
       "      <th>21842</th>\n",
       "    </tr>\n",
       "  </thead>\n",
       "  <tbody>\n",
       "    <tr>\n",
       "      <th>0</th>\n",
       "      <td>Isabella</td>\n",
       "      <td>F</td>\n",
       "      <td>19910</td>\n",
       "    </tr>\n",
       "    <tr>\n",
       "      <th>1</th>\n",
       "      <td>Emma</td>\n",
       "      <td>F</td>\n",
       "      <td>18803</td>\n",
       "    </tr>\n",
       "    <tr>\n",
       "      <th>2</th>\n",
       "      <td>Olivia</td>\n",
       "      <td>F</td>\n",
       "      <td>17322</td>\n",
       "    </tr>\n",
       "    <tr>\n",
       "      <th>3</th>\n",
       "      <td>Ava</td>\n",
       "      <td>F</td>\n",
       "      <td>15503</td>\n",
       "    </tr>\n",
       "    <tr>\n",
       "      <th>...</th>\n",
       "      <td>...</td>\n",
       "      <td>...</td>\n",
       "      <td>...</td>\n",
       "    </tr>\n",
       "    <tr>\n",
       "      <th>33903</th>\n",
       "      <td>Zylas</td>\n",
       "      <td>M</td>\n",
       "      <td>5</td>\n",
       "    </tr>\n",
       "    <tr>\n",
       "      <th>33904</th>\n",
       "      <td>Zyran</td>\n",
       "      <td>M</td>\n",
       "      <td>5</td>\n",
       "    </tr>\n",
       "    <tr>\n",
       "      <th>33905</th>\n",
       "      <td>Zyshawn</td>\n",
       "      <td>M</td>\n",
       "      <td>5</td>\n",
       "    </tr>\n",
       "    <tr>\n",
       "      <th>33906</th>\n",
       "      <td>Zytavion</td>\n",
       "      <td>M</td>\n",
       "      <td>5</td>\n",
       "    </tr>\n",
       "  </tbody>\n",
       "</table>\n",
       "<p>33907 rows × 3 columns</p>\n",
       "</div>"
      ],
      "text/plain": [
       "         Sophia  F  21842\n",
       "0      Isabella  F  19910\n",
       "1          Emma  F  18803\n",
       "2        Olivia  F  17322\n",
       "3           Ava  F  15503\n",
       "...         ... ..    ...\n",
       "33903     Zylas  M      5\n",
       "33904     Zyran  M      5\n",
       "33905   Zyshawn  M      5\n",
       "33906  Zytavion  M      5\n",
       "\n",
       "[33907 rows x 3 columns]"
      ]
     },
     "execution_count": 9,
     "metadata": {},
     "output_type": "execute_result"
    }
   ],
   "source": [
    "pd.read_csv('names/yob2011.txt')"
   ]
  },
  {
   "cell_type": "markdown",
   "id": "558e7e00",
   "metadata": {},
   "source": [
    "Here we see that the first cell in the file, Sophia, autmatically becomes a column head.\n",
    "\n",
    "Since we want the column head to be \"name,\" and \"Sophia\" should be one of the names listed, we need to explicitly state the column name ourselves"
   ]
  },
  {
   "cell_type": "code",
   "execution_count": 10,
   "id": "db31672b",
   "metadata": {},
   "outputs": [
    {
     "data": {
      "text/html": [
       "<div>\n",
       "<style scoped>\n",
       "    .dataframe tbody tr th:only-of-type {\n",
       "        vertical-align: middle;\n",
       "    }\n",
       "\n",
       "    .dataframe tbody tr th {\n",
       "        vertical-align: top;\n",
       "    }\n",
       "\n",
       "    .dataframe thead th {\n",
       "        text-align: right;\n",
       "    }\n",
       "</style>\n",
       "<table border=\"1\" class=\"dataframe\">\n",
       "  <thead>\n",
       "    <tr style=\"text-align: right;\">\n",
       "      <th></th>\n",
       "      <th>name</th>\n",
       "      <th>sex</th>\n",
       "      <th>number</th>\n",
       "    </tr>\n",
       "  </thead>\n",
       "  <tbody>\n",
       "    <tr>\n",
       "      <th>0</th>\n",
       "      <td>Sophia</td>\n",
       "      <td>F</td>\n",
       "      <td>21842</td>\n",
       "    </tr>\n",
       "    <tr>\n",
       "      <th>1</th>\n",
       "      <td>Isabella</td>\n",
       "      <td>F</td>\n",
       "      <td>19910</td>\n",
       "    </tr>\n",
       "    <tr>\n",
       "      <th>2</th>\n",
       "      <td>Emma</td>\n",
       "      <td>F</td>\n",
       "      <td>18803</td>\n",
       "    </tr>\n",
       "    <tr>\n",
       "      <th>3</th>\n",
       "      <td>Olivia</td>\n",
       "      <td>F</td>\n",
       "      <td>17322</td>\n",
       "    </tr>\n",
       "    <tr>\n",
       "      <th>...</th>\n",
       "      <td>...</td>\n",
       "      <td>...</td>\n",
       "      <td>...</td>\n",
       "    </tr>\n",
       "    <tr>\n",
       "      <th>33904</th>\n",
       "      <td>Zylas</td>\n",
       "      <td>M</td>\n",
       "      <td>5</td>\n",
       "    </tr>\n",
       "    <tr>\n",
       "      <th>33905</th>\n",
       "      <td>Zyran</td>\n",
       "      <td>M</td>\n",
       "      <td>5</td>\n",
       "    </tr>\n",
       "    <tr>\n",
       "      <th>33906</th>\n",
       "      <td>Zyshawn</td>\n",
       "      <td>M</td>\n",
       "      <td>5</td>\n",
       "    </tr>\n",
       "    <tr>\n",
       "      <th>33907</th>\n",
       "      <td>Zytavion</td>\n",
       "      <td>M</td>\n",
       "      <td>5</td>\n",
       "    </tr>\n",
       "  </tbody>\n",
       "</table>\n",
       "<p>33908 rows × 3 columns</p>\n",
       "</div>"
      ],
      "text/plain": [
       "           name sex  number\n",
       "0        Sophia   F   21842\n",
       "1      Isabella   F   19910\n",
       "2          Emma   F   18803\n",
       "3        Olivia   F   17322\n",
       "...         ...  ..     ...\n",
       "33904     Zylas   M       5\n",
       "33905     Zyran   M       5\n",
       "33906   Zyshawn   M       5\n",
       "33907  Zytavion   M       5\n",
       "\n",
       "[33908 rows x 3 columns]"
      ]
     },
     "execution_count": 10,
     "metadata": {},
     "output_type": "execute_result"
    }
   ],
   "source": [
    "pd.read_csv('names/yob2011.txt', names=['name','sex','number'])"
   ]
  },
  {
   "cell_type": "markdown",
   "id": "1a3aa3eb",
   "metadata": {},
   "source": [
    "If we want data from a certain year, like 2011 for example, we can assign it."
   ]
  },
  {
   "cell_type": "code",
   "execution_count": 11,
   "id": "e2757c8f",
   "metadata": {},
   "outputs": [
    {
     "data": {
      "text/html": [
       "<div>\n",
       "<style scoped>\n",
       "    .dataframe tbody tr th:only-of-type {\n",
       "        vertical-align: middle;\n",
       "    }\n",
       "\n",
       "    .dataframe tbody tr th {\n",
       "        vertical-align: top;\n",
       "    }\n",
       "\n",
       "    .dataframe thead th {\n",
       "        text-align: right;\n",
       "    }\n",
       "</style>\n",
       "<table border=\"1\" class=\"dataframe\">\n",
       "  <thead>\n",
       "    <tr style=\"text-align: right;\">\n",
       "      <th></th>\n",
       "      <th>name</th>\n",
       "      <th>sex</th>\n",
       "      <th>number</th>\n",
       "      <th>year</th>\n",
       "    </tr>\n",
       "  </thead>\n",
       "  <tbody>\n",
       "    <tr>\n",
       "      <th>0</th>\n",
       "      <td>Sophia</td>\n",
       "      <td>F</td>\n",
       "      <td>21842</td>\n",
       "      <td>2011</td>\n",
       "    </tr>\n",
       "    <tr>\n",
       "      <th>1</th>\n",
       "      <td>Isabella</td>\n",
       "      <td>F</td>\n",
       "      <td>19910</td>\n",
       "      <td>2011</td>\n",
       "    </tr>\n",
       "    <tr>\n",
       "      <th>2</th>\n",
       "      <td>Emma</td>\n",
       "      <td>F</td>\n",
       "      <td>18803</td>\n",
       "      <td>2011</td>\n",
       "    </tr>\n",
       "    <tr>\n",
       "      <th>3</th>\n",
       "      <td>Olivia</td>\n",
       "      <td>F</td>\n",
       "      <td>17322</td>\n",
       "      <td>2011</td>\n",
       "    </tr>\n",
       "    <tr>\n",
       "      <th>...</th>\n",
       "      <td>...</td>\n",
       "      <td>...</td>\n",
       "      <td>...</td>\n",
       "      <td>...</td>\n",
       "    </tr>\n",
       "    <tr>\n",
       "      <th>33904</th>\n",
       "      <td>Zylas</td>\n",
       "      <td>M</td>\n",
       "      <td>5</td>\n",
       "      <td>2011</td>\n",
       "    </tr>\n",
       "    <tr>\n",
       "      <th>33905</th>\n",
       "      <td>Zyran</td>\n",
       "      <td>M</td>\n",
       "      <td>5</td>\n",
       "      <td>2011</td>\n",
       "    </tr>\n",
       "    <tr>\n",
       "      <th>33906</th>\n",
       "      <td>Zyshawn</td>\n",
       "      <td>M</td>\n",
       "      <td>5</td>\n",
       "      <td>2011</td>\n",
       "    </tr>\n",
       "    <tr>\n",
       "      <th>33907</th>\n",
       "      <td>Zytavion</td>\n",
       "      <td>M</td>\n",
       "      <td>5</td>\n",
       "      <td>2011</td>\n",
       "    </tr>\n",
       "  </tbody>\n",
       "</table>\n",
       "<p>33908 rows × 4 columns</p>\n",
       "</div>"
      ],
      "text/plain": [
       "           name sex  number  year\n",
       "0        Sophia   F   21842  2011\n",
       "1      Isabella   F   19910  2011\n",
       "2          Emma   F   18803  2011\n",
       "3        Olivia   F   17322  2011\n",
       "...         ...  ..     ...   ...\n",
       "33904     Zylas   M       5  2011\n",
       "33905     Zyran   M       5  2011\n",
       "33906   Zyshawn   M       5  2011\n",
       "33907  Zytavion   M       5  2011\n",
       "\n",
       "[33908 rows x 4 columns]"
      ]
     },
     "execution_count": 11,
     "metadata": {},
     "output_type": "execute_result"
    }
   ],
   "source": [
    "pd.read_csv('names/yob2011.txt', names=['name','sex','number']).assign(year=2011)"
   ]
  },
  {
   "cell_type": "code",
   "execution_count": 12,
   "id": "5ba7cba3",
   "metadata": {},
   "outputs": [],
   "source": [
    "# Build a data frame\n",
    "# loop between years 1880-2018, build up filename using f string\n",
    "# feed it to read_csv, specifiy column names, add column that gives correct year, finally we concat\n",
    "\n",
    "allyears = pd.concat(pd.read_csv(f'names/yob{year}.txt', names=['name','sex','number']).assign(year=year)\n",
    "                     for year in range(1880,2019))\n",
    "                     "
   ]
  },
  {
   "cell_type": "code",
   "execution_count": 13,
   "id": "97542d6f",
   "metadata": {},
   "outputs": [
    {
     "name": "stdout",
     "output_type": "stream",
     "text": [
      "<class 'pandas.core.frame.DataFrame'>\n",
      "Int64Index: 1957046 entries, 0 to 32032\n",
      "Data columns (total 4 columns):\n",
      " #   Column  Dtype \n",
      "---  ------  ----- \n",
      " 0   name    object\n",
      " 1   sex     object\n",
      " 2   number  int64 \n",
      " 3   year    int64 \n",
      "dtypes: int64(2), object(2)\n",
      "memory usage: 74.7+ MB\n"
     ]
    }
   ],
   "source": [
    "allyears.info()"
   ]
  },
  {
   "cell_type": "code",
   "execution_count": 14,
   "id": "88c51227",
   "metadata": {},
   "outputs": [
    {
     "data": {
      "text/plain": [
       "(1880, 2018)"
      ]
     },
     "execution_count": 14,
     "metadata": {},
     "output_type": "execute_result"
    }
   ],
   "source": [
    "allyears.year.min(), allyears.year.max()"
   ]
  },
  {
   "cell_type": "code",
   "execution_count": 15,
   "id": "b8c63adc",
   "metadata": {},
   "outputs": [],
   "source": [
    "allyears.to_csv('allyears.csv.gz', index=False)"
   ]
  },
  {
   "cell_type": "markdown",
   "id": "1fa02c9c",
   "metadata": {},
   "source": [
    "## Name Populartiy"
   ]
  },
  {
   "cell_type": "code",
   "execution_count": 16,
   "id": "55fb5856",
   "metadata": {},
   "outputs": [],
   "source": [
    "allyears = pd.read_csv('allyears.csv.gz')"
   ]
  },
  {
   "cell_type": "code",
   "execution_count": 17,
   "id": "0d733db6",
   "metadata": {},
   "outputs": [
    {
     "data": {
      "text/html": [
       "<div>\n",
       "<style scoped>\n",
       "    .dataframe tbody tr th:only-of-type {\n",
       "        vertical-align: middle;\n",
       "    }\n",
       "\n",
       "    .dataframe tbody tr th {\n",
       "        vertical-align: top;\n",
       "    }\n",
       "\n",
       "    .dataframe thead th {\n",
       "        text-align: right;\n",
       "    }\n",
       "</style>\n",
       "<table border=\"1\" class=\"dataframe\">\n",
       "  <thead>\n",
       "    <tr style=\"text-align: right;\">\n",
       "      <th></th>\n",
       "      <th>name</th>\n",
       "      <th>sex</th>\n",
       "      <th>number</th>\n",
       "      <th>year</th>\n",
       "    </tr>\n",
       "  </thead>\n",
       "  <tbody>\n",
       "    <tr>\n",
       "      <th>0</th>\n",
       "      <td>Mary</td>\n",
       "      <td>F</td>\n",
       "      <td>7065</td>\n",
       "      <td>1880</td>\n",
       "    </tr>\n",
       "    <tr>\n",
       "      <th>1</th>\n",
       "      <td>Anna</td>\n",
       "      <td>F</td>\n",
       "      <td>2604</td>\n",
       "      <td>1880</td>\n",
       "    </tr>\n",
       "    <tr>\n",
       "      <th>2</th>\n",
       "      <td>Emma</td>\n",
       "      <td>F</td>\n",
       "      <td>2003</td>\n",
       "      <td>1880</td>\n",
       "    </tr>\n",
       "    <tr>\n",
       "      <th>3</th>\n",
       "      <td>Elizabeth</td>\n",
       "      <td>F</td>\n",
       "      <td>1939</td>\n",
       "      <td>1880</td>\n",
       "    </tr>\n",
       "    <tr>\n",
       "      <th>...</th>\n",
       "      <td>...</td>\n",
       "      <td>...</td>\n",
       "      <td>...</td>\n",
       "      <td>...</td>\n",
       "    </tr>\n",
       "    <tr>\n",
       "      <th>1957042</th>\n",
       "      <td>Zyran</td>\n",
       "      <td>M</td>\n",
       "      <td>5</td>\n",
       "      <td>2018</td>\n",
       "    </tr>\n",
       "    <tr>\n",
       "      <th>1957043</th>\n",
       "      <td>Zyrie</td>\n",
       "      <td>M</td>\n",
       "      <td>5</td>\n",
       "      <td>2018</td>\n",
       "    </tr>\n",
       "    <tr>\n",
       "      <th>1957044</th>\n",
       "      <td>Zyron</td>\n",
       "      <td>M</td>\n",
       "      <td>5</td>\n",
       "      <td>2018</td>\n",
       "    </tr>\n",
       "    <tr>\n",
       "      <th>1957045</th>\n",
       "      <td>Zzyzx</td>\n",
       "      <td>M</td>\n",
       "      <td>5</td>\n",
       "      <td>2018</td>\n",
       "    </tr>\n",
       "  </tbody>\n",
       "</table>\n",
       "<p>1957046 rows × 4 columns</p>\n",
       "</div>"
      ],
      "text/plain": [
       "              name sex  number  year\n",
       "0             Mary   F    7065  1880\n",
       "1             Anna   F    2604  1880\n",
       "2             Emma   F    2003  1880\n",
       "3        Elizabeth   F    1939  1880\n",
       "...            ...  ..     ...   ...\n",
       "1957042      Zyran   M       5  2018\n",
       "1957043      Zyrie   M       5  2018\n",
       "1957044      Zyron   M       5  2018\n",
       "1957045      Zzyzx   M       5  2018\n",
       "\n",
       "[1957046 rows x 4 columns]"
      ]
     },
     "execution_count": 17,
     "metadata": {},
     "output_type": "execute_result"
    }
   ],
   "source": [
    "allyears"
   ]
  },
  {
   "cell_type": "code",
   "execution_count": 18,
   "id": "d301f372",
   "metadata": {},
   "outputs": [],
   "source": [
    "allyears_indexed = allyears.set_index(['sex','name','year']).sort_index()"
   ]
  },
  {
   "cell_type": "markdown",
   "id": "b32ab9c7",
   "metadata": {},
   "source": [
    "Now we can get the indexing for any name, like 'Mary', for example."
   ]
  },
  {
   "cell_type": "code",
   "execution_count": 19,
   "id": "bada02c2",
   "metadata": {},
   "outputs": [
    {
     "data": {
      "text/html": [
       "<div>\n",
       "<style scoped>\n",
       "    .dataframe tbody tr th:only-of-type {\n",
       "        vertical-align: middle;\n",
       "    }\n",
       "\n",
       "    .dataframe tbody tr th {\n",
       "        vertical-align: top;\n",
       "    }\n",
       "\n",
       "    .dataframe thead th {\n",
       "        text-align: right;\n",
       "    }\n",
       "</style>\n",
       "<table border=\"1\" class=\"dataframe\">\n",
       "  <thead>\n",
       "    <tr style=\"text-align: right;\">\n",
       "      <th></th>\n",
       "      <th>number</th>\n",
       "    </tr>\n",
       "    <tr>\n",
       "      <th>year</th>\n",
       "      <th></th>\n",
       "    </tr>\n",
       "  </thead>\n",
       "  <tbody>\n",
       "    <tr>\n",
       "      <th>1880</th>\n",
       "      <td>7065</td>\n",
       "    </tr>\n",
       "    <tr>\n",
       "      <th>1881</th>\n",
       "      <td>6919</td>\n",
       "    </tr>\n",
       "    <tr>\n",
       "      <th>1882</th>\n",
       "      <td>8148</td>\n",
       "    </tr>\n",
       "    <tr>\n",
       "      <th>1883</th>\n",
       "      <td>8012</td>\n",
       "    </tr>\n",
       "    <tr>\n",
       "      <th>...</th>\n",
       "      <td>...</td>\n",
       "    </tr>\n",
       "    <tr>\n",
       "      <th>2015</th>\n",
       "      <td>2631</td>\n",
       "    </tr>\n",
       "    <tr>\n",
       "      <th>2016</th>\n",
       "      <td>2508</td>\n",
       "    </tr>\n",
       "    <tr>\n",
       "      <th>2017</th>\n",
       "      <td>2402</td>\n",
       "    </tr>\n",
       "    <tr>\n",
       "      <th>2018</th>\n",
       "      <td>2327</td>\n",
       "    </tr>\n",
       "  </tbody>\n",
       "</table>\n",
       "<p>139 rows × 1 columns</p>\n",
       "</div>"
      ],
      "text/plain": [
       "      number\n",
       "year        \n",
       "1880    7065\n",
       "1881    6919\n",
       "1882    8148\n",
       "1883    8012\n",
       "...      ...\n",
       "2015    2631\n",
       "2016    2508\n",
       "2017    2402\n",
       "2018    2327\n",
       "\n",
       "[139 rows x 1 columns]"
      ]
     },
     "execution_count": 19,
     "metadata": {},
     "output_type": "execute_result"
    }
   ],
   "source": [
    "allyears_indexed.loc[('F','Mary')]"
   ]
  },
  {
   "cell_type": "code",
   "execution_count": 20,
   "id": "5d075fae",
   "metadata": {},
   "outputs": [
    {
     "data": {
      "text/plain": [
       "[<matplotlib.lines.Line2D at 0x1408e285b50>]"
      ]
     },
     "execution_count": 20,
     "metadata": {},
     "output_type": "execute_result"
    },
    {
     "data": {
      "image/png": "[encoded data removed]",
      "text/plain": [
       "<Figure size 640x480 with 1 Axes>"
      ]
     },
     "metadata": {},
     "output_type": "display_data"
    }
   ],
   "source": [
    "plt.plot(allyears_indexed.loc[('F','Mary')])"
   ]
  },
  {
   "cell_type": "markdown",
   "id": "82317782",
   "metadata": {},
   "source": [
    "This plot displays the frequency of the baby name \"Mary\" being used over time.\n",
    "However, frequency alone is not a sole indicator of populatriy. For instance, there could have been a baby boom which would likley increase frequency of a given name, but would not necessarily increase its popularity, as it could just as likely increase the frequnecy of many other baby names. \n",
    "\n",
    "If we want to look at popularity, we take the frequency of a given name, such as \"Mary,\" as fraction of number of babies born in a year."
   ]
  },
  {
   "cell_type": "code",
   "execution_count": 21,
   "id": "10650b05",
   "metadata": {},
   "outputs": [
    {
     "name": "stderr",
     "output_type": "stream",
     "text": [
      "C:\\Users\\yaelw\\AppData\\Local\\Temp\\ipykernel_43036\\3963796701.py:1: FutureWarning: The default value of numeric_only in DataFrameGroupBy.sum is deprecated. In a future version, numeric_only will default to False. Either specify numeric_only or select only columns which should be valid for the function.\n",
      "  plt.plot(allyears_indexed.loc[('F','Mary')] / allyears.groupby('year').sum())\n"
     ]
    },
    {
     "data": {
      "text/plain": [
       "[<matplotlib.lines.Line2D at 0x14096275ad0>]"
      ]
     },
     "execution_count": 21,
     "metadata": {},
     "output_type": "execute_result"
    },
    {
     "data": {
      "image/png": "[encoded data removed]",
      "text/plain": [
       "<Figure size 640x480 with 1 Axes>"
      ]
     },
     "metadata": {},
     "output_type": "display_data"
    }
   ],
   "source": [
    "plt.plot(allyears_indexed.loc[('F','Mary')] / allyears.groupby('year').sum())"
   ]
  },
  {
   "cell_type": "markdown",
   "id": "f549d1fc",
   "metadata": {},
   "source": [
    "This plot reveals that popularity goes down over time, even though the previous plot reveals that at certain points in time, the frequency of the baby name \"Mary\" goes up."
   ]
  },
  {
   "cell_type": "markdown",
   "id": "b28f8ab1",
   "metadata": {},
   "source": [
    "### A few helpful functions"
   ]
  },
  {
   "cell_type": "markdown",
   "id": "a2785ea8",
   "metadata": {},
   "source": [
    "The following function plots the frequency of a name over time when given a sex and a name."
   ]
  },
  {
   "cell_type": "code",
   "execution_count": 22,
   "id": "dd83b2c3",
   "metadata": {},
   "outputs": [],
   "source": [
    "def plotname(sex, name):\n",
    "    data = allyears_indexed.loc[(sex,name)]\n",
    "    \n",
    "    plt.plot(data.index, data.values, label=name)\n",
    "    plt.axis(xmin=1880, xmax=2018)"
   ]
  },
  {
   "cell_type": "markdown",
   "id": "3b7ddb1c",
   "metadata": {},
   "source": [
    "The following function uses the above function to plot the frequency over time of multiple baby names."
   ]
  },
  {
   "cell_type": "code",
   "execution_count": 23,
   "id": "918c0168",
   "metadata": {},
   "outputs": [],
   "source": [
    "def comparenames(sex, names):\n",
    "    plt.figure(figsize=(12,2.5))\n",
    "    \n",
    "    for name in names:\n",
    "        plotname(sex, name)\n",
    "        \n",
    "    plt.legend()"
   ]
  },
  {
   "cell_type": "code",
   "execution_count": 24,
   "id": "7c0c7dc1",
   "metadata": {},
   "outputs": [
    {
     "data": {
      "image/png": "[encoded data removed]",
      "text/plain": [
       "<Figure size 1200x250 with 1 Axes>"
      ]
     },
     "metadata": {},
     "output_type": "display_data"
    }
   ],
   "source": [
    "comparenames('M', ['Michael', 'John', 'David', 'Martin'])"
   ]
  },
  {
   "cell_type": "markdown",
   "id": "8e500aa4",
   "metadata": {},
   "source": [
    "This chart displays the frequency of the names \"Michael\", \"John\", \"David\", and \"Martin\" from 1880 to 2018."
   ]
  },
  {
   "cell_type": "code",
   "execution_count": 25,
   "id": "4c25bea3",
   "metadata": {},
   "outputs": [
    {
     "data": {
      "image/png": "[encoded data removed]",
      "text/plain": [
       "<Figure size 1200x250 with 1 Axes>"
      ]
     },
     "metadata": {},
     "output_type": "display_data"
    }
   ],
   "source": [
    "comparenames('F', ['Emily', 'Anna', 'Claire', 'Elizabeth'])"
   ]
  },
  {
   "cell_type": "markdown",
   "id": "211f0caa",
   "metadata": {},
   "source": [
    "This chart displays the frequency of the names \"Emily\", \"Anna\", \"Claire\", and \"Elizabeth\" from 1880 to 2018."
   ]
  },
  {
   "cell_type": "markdown",
   "id": "d35a9118",
   "metadata": {},
   "source": [
    "#### Name Variants\n",
    "With certain names, like \"Claire\", for example, there may be different variants which we may want to compare."
   ]
  },
  {
   "cell_type": "code",
   "execution_count": 26,
   "id": "459b1fc0",
   "metadata": {},
   "outputs": [],
   "source": [
    "claires = ['Claire', 'Clare', 'Clara', 'Chiara', 'Ciara']"
   ]
  },
  {
   "cell_type": "markdown",
   "id": "9e1ac120",
   "metadata": {},
   "source": [
    "Here, we will compare the frequency of different 'Claire' variants over time."
   ]
  },
  {
   "cell_type": "code",
   "execution_count": 27,
   "id": "1517ff21",
   "metadata": {},
   "outputs": [
    {
     "data": {
      "image/png": "[encoded data removed]",
      "text/plain": [
       "<Figure size 1200x250 with 1 Axes>"
      ]
     },
     "metadata": {},
     "output_type": "display_data"
    }
   ],
   "source": [
    "comparenames('F', claires)"
   ]
  },
  {
   "cell_type": "markdown",
   "id": "9a9eba93",
   "metadata": {},
   "source": [
    "Here we have a stacked plot that adds the counts on top of each other.\n",
    "We need to compare time though, so we will use indexing. "
   ]
  },
  {
   "cell_type": "code",
   "execution_count": 28,
   "id": "17e71c4e",
   "metadata": {},
   "outputs": [
    {
     "data": {
      "text/html": [
       "<div>\n",
       "<style scoped>\n",
       "    .dataframe tbody tr th:only-of-type {\n",
       "        vertical-align: middle;\n",
       "    }\n",
       "\n",
       "    .dataframe tbody tr th {\n",
       "        vertical-align: top;\n",
       "    }\n",
       "\n",
       "    .dataframe thead th {\n",
       "        text-align: right;\n",
       "    }\n",
       "</style>\n",
       "<table border=\"1\" class=\"dataframe\">\n",
       "  <thead>\n",
       "    <tr style=\"text-align: right;\">\n",
       "      <th></th>\n",
       "      <th></th>\n",
       "      <th></th>\n",
       "      <th>number</th>\n",
       "    </tr>\n",
       "    <tr>\n",
       "      <th>sex</th>\n",
       "      <th>name</th>\n",
       "      <th>year</th>\n",
       "      <th></th>\n",
       "    </tr>\n",
       "  </thead>\n",
       "  <tbody>\n",
       "    <tr>\n",
       "      <th rowspan=\"9\" valign=\"top\">F</th>\n",
       "      <th rowspan=\"4\" valign=\"top\">Claire</th>\n",
       "      <th>1880</th>\n",
       "      <td>21</td>\n",
       "    </tr>\n",
       "    <tr>\n",
       "      <th>1881</th>\n",
       "      <td>23</td>\n",
       "    </tr>\n",
       "    <tr>\n",
       "      <th>1882</th>\n",
       "      <td>30</td>\n",
       "    </tr>\n",
       "    <tr>\n",
       "      <th>1883</th>\n",
       "      <td>38</td>\n",
       "    </tr>\n",
       "    <tr>\n",
       "      <th>...</th>\n",
       "      <th>...</th>\n",
       "      <td>...</td>\n",
       "    </tr>\n",
       "    <tr>\n",
       "      <th rowspan=\"4\" valign=\"top\">Ciara</th>\n",
       "      <th>2015</th>\n",
       "      <td>372</td>\n",
       "    </tr>\n",
       "    <tr>\n",
       "      <th>2016</th>\n",
       "      <td>321</td>\n",
       "    </tr>\n",
       "    <tr>\n",
       "      <th>2017</th>\n",
       "      <td>243</td>\n",
       "    </tr>\n",
       "    <tr>\n",
       "      <th>2018</th>\n",
       "      <td>256</td>\n",
       "    </tr>\n",
       "  </tbody>\n",
       "</table>\n",
       "<p>522 rows × 1 columns</p>\n",
       "</div>"
      ],
      "text/plain": [
       "                 number\n",
       "sex name   year        \n",
       "F   Claire 1880      21\n",
       "           1881      23\n",
       "           1882      30\n",
       "           1883      38\n",
       "...                 ...\n",
       "    Ciara  2015     372\n",
       "           2016     321\n",
       "           2017     243\n",
       "           2018     256\n",
       "\n",
       "[522 rows x 1 columns]"
      ]
     },
     "execution_count": 28,
     "metadata": {},
     "output_type": "execute_result"
    }
   ],
   "source": [
    "allyears_indexed.loc[('F', claires),:]"
   ]
  },
  {
   "cell_type": "code",
   "execution_count": 29,
   "id": "1bc9e99c",
   "metadata": {},
   "outputs": [
    {
     "data": {
      "text/html": [
       "<div>\n",
       "<style scoped>\n",
       "    .dataframe tbody tr th:only-of-type {\n",
       "        vertical-align: middle;\n",
       "    }\n",
       "\n",
       "    .dataframe tbody tr th {\n",
       "        vertical-align: top;\n",
       "    }\n",
       "\n",
       "    .dataframe thead tr th {\n",
       "        text-align: left;\n",
       "    }\n",
       "\n",
       "    .dataframe thead tr:last-of-type th {\n",
       "        text-align: right;\n",
       "    }\n",
       "</style>\n",
       "<table border=\"1\" class=\"dataframe\">\n",
       "  <thead>\n",
       "    <tr>\n",
       "      <th></th>\n",
       "      <th></th>\n",
       "      <th colspan=\"21\" halign=\"left\">number</th>\n",
       "    </tr>\n",
       "    <tr>\n",
       "      <th></th>\n",
       "      <th>year</th>\n",
       "      <th>1880</th>\n",
       "      <th>1881</th>\n",
       "      <th>1882</th>\n",
       "      <th>1883</th>\n",
       "      <th>1884</th>\n",
       "      <th>1885</th>\n",
       "      <th>1886</th>\n",
       "      <th>1887</th>\n",
       "      <th>1888</th>\n",
       "      <th>1889</th>\n",
       "      <th>...</th>\n",
       "      <th>2009</th>\n",
       "      <th>2010</th>\n",
       "      <th>2011</th>\n",
       "      <th>2012</th>\n",
       "      <th>2013</th>\n",
       "      <th>2014</th>\n",
       "      <th>2015</th>\n",
       "      <th>2016</th>\n",
       "      <th>2017</th>\n",
       "      <th>2018</th>\n",
       "    </tr>\n",
       "    <tr>\n",
       "      <th>sex</th>\n",
       "      <th>name</th>\n",
       "      <th></th>\n",
       "      <th></th>\n",
       "      <th></th>\n",
       "      <th></th>\n",
       "      <th></th>\n",
       "      <th></th>\n",
       "      <th></th>\n",
       "      <th></th>\n",
       "      <th></th>\n",
       "      <th></th>\n",
       "      <th></th>\n",
       "      <th></th>\n",
       "      <th></th>\n",
       "      <th></th>\n",
       "      <th></th>\n",
       "      <th></th>\n",
       "      <th></th>\n",
       "      <th></th>\n",
       "      <th></th>\n",
       "      <th></th>\n",
       "      <th></th>\n",
       "    </tr>\n",
       "  </thead>\n",
       "  <tbody>\n",
       "    <tr>\n",
       "      <th rowspan=\"5\" valign=\"top\">F</th>\n",
       "      <th>Claire</th>\n",
       "      <td>21.0</td>\n",
       "      <td>23.0</td>\n",
       "      <td>30.0</td>\n",
       "      <td>38.0</td>\n",
       "      <td>33.0</td>\n",
       "      <td>49.0</td>\n",
       "      <td>61.0</td>\n",
       "      <td>58.0</td>\n",
       "      <td>73.0</td>\n",
       "      <td>62.0</td>\n",
       "      <td>...</td>\n",
       "      <td>4824.0</td>\n",
       "      <td>4915.0</td>\n",
       "      <td>4896.0</td>\n",
       "      <td>4944.0</td>\n",
       "      <td>4656.0</td>\n",
       "      <td>5014.0</td>\n",
       "      <td>4829.0</td>\n",
       "      <td>5209.0</td>\n",
       "      <td>4693.0</td>\n",
       "      <td>4379.0</td>\n",
       "    </tr>\n",
       "    <tr>\n",
       "      <th>Clare</th>\n",
       "      <td>15.0</td>\n",
       "      <td>20.0</td>\n",
       "      <td>21.0</td>\n",
       "      <td>22.0</td>\n",
       "      <td>38.0</td>\n",
       "      <td>27.0</td>\n",
       "      <td>26.0</td>\n",
       "      <td>31.0</td>\n",
       "      <td>43.0</td>\n",
       "      <td>34.0</td>\n",
       "      <td>...</td>\n",
       "      <td>405.0</td>\n",
       "      <td>421.0</td>\n",
       "      <td>414.0</td>\n",
       "      <td>379.0</td>\n",
       "      <td>377.0</td>\n",
       "      <td>386.0</td>\n",
       "      <td>389.0</td>\n",
       "      <td>394.0</td>\n",
       "      <td>315.0</td>\n",
       "      <td>357.0</td>\n",
       "    </tr>\n",
       "    <tr>\n",
       "      <th>Clara</th>\n",
       "      <td>1226.0</td>\n",
       "      <td>1242.0</td>\n",
       "      <td>1490.0</td>\n",
       "      <td>1548.0</td>\n",
       "      <td>1852.0</td>\n",
       "      <td>1910.0</td>\n",
       "      <td>1916.0</td>\n",
       "      <td>1984.0</td>\n",
       "      <td>2230.0</td>\n",
       "      <td>2319.0</td>\n",
       "      <td>...</td>\n",
       "      <td>1647.0</td>\n",
       "      <td>1840.0</td>\n",
       "      <td>2074.0</td>\n",
       "      <td>2333.0</td>\n",
       "      <td>2504.0</td>\n",
       "      <td>2854.0</td>\n",
       "      <td>3064.0</td>\n",
       "      <td>3072.0</td>\n",
       "      <td>3035.0</td>\n",
       "      <td>2877.0</td>\n",
       "    </tr>\n",
       "    <tr>\n",
       "      <th>Chiara</th>\n",
       "      <td>NaN</td>\n",
       "      <td>NaN</td>\n",
       "      <td>NaN</td>\n",
       "      <td>NaN</td>\n",
       "      <td>NaN</td>\n",
       "      <td>NaN</td>\n",
       "      <td>NaN</td>\n",
       "      <td>NaN</td>\n",
       "      <td>NaN</td>\n",
       "      <td>NaN</td>\n",
       "      <td>...</td>\n",
       "      <td>183.0</td>\n",
       "      <td>145.0</td>\n",
       "      <td>134.0</td>\n",
       "      <td>111.0</td>\n",
       "      <td>142.0</td>\n",
       "      <td>131.0</td>\n",
       "      <td>111.0</td>\n",
       "      <td>134.0</td>\n",
       "      <td>137.0</td>\n",
       "      <td>160.0</td>\n",
       "    </tr>\n",
       "    <tr>\n",
       "      <th>Ciara</th>\n",
       "      <td>NaN</td>\n",
       "      <td>NaN</td>\n",
       "      <td>NaN</td>\n",
       "      <td>NaN</td>\n",
       "      <td>NaN</td>\n",
       "      <td>NaN</td>\n",
       "      <td>NaN</td>\n",
       "      <td>NaN</td>\n",
       "      <td>NaN</td>\n",
       "      <td>NaN</td>\n",
       "      <td>...</td>\n",
       "      <td>888.0</td>\n",
       "      <td>699.0</td>\n",
       "      <td>554.0</td>\n",
       "      <td>475.0</td>\n",
       "      <td>436.0</td>\n",
       "      <td>422.0</td>\n",
       "      <td>372.0</td>\n",
       "      <td>321.0</td>\n",
       "      <td>243.0</td>\n",
       "      <td>256.0</td>\n",
       "    </tr>\n",
       "  </tbody>\n",
       "</table>\n",
       "<p>5 rows × 139 columns</p>\n",
       "</div>"
      ],
      "text/plain": [
       "            number                                                          \\\n",
       "year          1880    1881    1882    1883    1884    1885    1886    1887   \n",
       "sex name                                                                     \n",
       "F   Claire    21.0    23.0    30.0    38.0    33.0    49.0    61.0    58.0   \n",
       "    Clare     15.0    20.0    21.0    22.0    38.0    27.0    26.0    31.0   \n",
       "    Clara   1226.0  1242.0  1490.0  1548.0  1852.0  1910.0  1916.0  1984.0   \n",
       "    Chiara     NaN     NaN     NaN     NaN     NaN     NaN     NaN     NaN   \n",
       "    Ciara      NaN     NaN     NaN     NaN     NaN     NaN     NaN     NaN   \n",
       "\n",
       "                            ...                                          \\\n",
       "year          1888    1889  ...    2009    2010    2011    2012    2013   \n",
       "sex name                    ...                                           \n",
       "F   Claire    73.0    62.0  ...  4824.0  4915.0  4896.0  4944.0  4656.0   \n",
       "    Clare     43.0    34.0  ...   405.0   421.0   414.0   379.0   377.0   \n",
       "    Clara   2230.0  2319.0  ...  1647.0  1840.0  2074.0  2333.0  2504.0   \n",
       "    Chiara     NaN     NaN  ...   183.0   145.0   134.0   111.0   142.0   \n",
       "    Ciara      NaN     NaN  ...   888.0   699.0   554.0   475.0   436.0   \n",
       "\n",
       "                                                    \n",
       "year          2014    2015    2016    2017    2018  \n",
       "sex name                                            \n",
       "F   Claire  5014.0  4829.0  5209.0  4693.0  4379.0  \n",
       "    Clare    386.0   389.0   394.0   315.0   357.0  \n",
       "    Clara   2854.0  3064.0  3072.0  3035.0  2877.0  \n",
       "    Chiara   131.0   111.0   134.0   137.0   160.0  \n",
       "    Ciara    422.0   372.0   321.0   243.0   256.0  \n",
       "\n",
       "[5 rows x 139 columns]"
      ]
     },
     "execution_count": 29,
     "metadata": {},
     "output_type": "execute_result"
    }
   ],
   "source": [
    "allyears_indexed.loc[('F',claires),:].unstack(level=2)"
   ]
  },
  {
   "cell_type": "code",
   "execution_count": 30,
   "id": "e0c4a5d8",
   "metadata": {},
   "outputs": [
    {
     "data": {
      "text/html": [
       "<div>\n",
       "<style scoped>\n",
       "    .dataframe tbody tr th:only-of-type {\n",
       "        vertical-align: middle;\n",
       "    }\n",
       "\n",
       "    .dataframe tbody tr th {\n",
       "        vertical-align: top;\n",
       "    }\n",
       "\n",
       "    .dataframe thead tr th {\n",
       "        text-align: left;\n",
       "    }\n",
       "\n",
       "    .dataframe thead tr:last-of-type th {\n",
       "        text-align: right;\n",
       "    }\n",
       "</style>\n",
       "<table border=\"1\" class=\"dataframe\">\n",
       "  <thead>\n",
       "    <tr>\n",
       "      <th></th>\n",
       "      <th></th>\n",
       "      <th colspan=\"5\" halign=\"left\">number</th>\n",
       "    </tr>\n",
       "    <tr>\n",
       "      <th></th>\n",
       "      <th>name</th>\n",
       "      <th>Claire</th>\n",
       "      <th>Clare</th>\n",
       "      <th>Clara</th>\n",
       "      <th>Chiara</th>\n",
       "      <th>Ciara</th>\n",
       "    </tr>\n",
       "    <tr>\n",
       "      <th>sex</th>\n",
       "      <th>year</th>\n",
       "      <th></th>\n",
       "      <th></th>\n",
       "      <th></th>\n",
       "      <th></th>\n",
       "      <th></th>\n",
       "    </tr>\n",
       "  </thead>\n",
       "  <tbody>\n",
       "    <tr>\n",
       "      <th rowspan=\"9\" valign=\"top\">F</th>\n",
       "      <th>1880</th>\n",
       "      <td>21.0</td>\n",
       "      <td>15.0</td>\n",
       "      <td>1226.0</td>\n",
       "      <td>NaN</td>\n",
       "      <td>NaN</td>\n",
       "    </tr>\n",
       "    <tr>\n",
       "      <th>1881</th>\n",
       "      <td>23.0</td>\n",
       "      <td>20.0</td>\n",
       "      <td>1242.0</td>\n",
       "      <td>NaN</td>\n",
       "      <td>NaN</td>\n",
       "    </tr>\n",
       "    <tr>\n",
       "      <th>1882</th>\n",
       "      <td>30.0</td>\n",
       "      <td>21.0</td>\n",
       "      <td>1490.0</td>\n",
       "      <td>NaN</td>\n",
       "      <td>NaN</td>\n",
       "    </tr>\n",
       "    <tr>\n",
       "      <th>1883</th>\n",
       "      <td>38.0</td>\n",
       "      <td>22.0</td>\n",
       "      <td>1548.0</td>\n",
       "      <td>NaN</td>\n",
       "      <td>NaN</td>\n",
       "    </tr>\n",
       "    <tr>\n",
       "      <th>...</th>\n",
       "      <td>...</td>\n",
       "      <td>...</td>\n",
       "      <td>...</td>\n",
       "      <td>...</td>\n",
       "      <td>...</td>\n",
       "    </tr>\n",
       "    <tr>\n",
       "      <th>2015</th>\n",
       "      <td>4829.0</td>\n",
       "      <td>389.0</td>\n",
       "      <td>3064.0</td>\n",
       "      <td>111.0</td>\n",
       "      <td>372.0</td>\n",
       "    </tr>\n",
       "    <tr>\n",
       "      <th>2016</th>\n",
       "      <td>5209.0</td>\n",
       "      <td>394.0</td>\n",
       "      <td>3072.0</td>\n",
       "      <td>134.0</td>\n",
       "      <td>321.0</td>\n",
       "    </tr>\n",
       "    <tr>\n",
       "      <th>2017</th>\n",
       "      <td>4693.0</td>\n",
       "      <td>315.0</td>\n",
       "      <td>3035.0</td>\n",
       "      <td>137.0</td>\n",
       "      <td>243.0</td>\n",
       "    </tr>\n",
       "    <tr>\n",
       "      <th>2018</th>\n",
       "      <td>4379.0</td>\n",
       "      <td>357.0</td>\n",
       "      <td>2877.0</td>\n",
       "      <td>160.0</td>\n",
       "      <td>256.0</td>\n",
       "    </tr>\n",
       "  </tbody>\n",
       "</table>\n",
       "<p>139 rows × 5 columns</p>\n",
       "</div>"
      ],
      "text/plain": [
       "          number                             \n",
       "name      Claire  Clare   Clara Chiara  Ciara\n",
       "sex year                                     \n",
       "F   1880    21.0   15.0  1226.0    NaN    NaN\n",
       "    1881    23.0   20.0  1242.0    NaN    NaN\n",
       "    1882    30.0   21.0  1490.0    NaN    NaN\n",
       "    1883    38.0   22.0  1548.0    NaN    NaN\n",
       "...          ...    ...     ...    ...    ...\n",
       "    2015  4829.0  389.0  3064.0  111.0  372.0\n",
       "    2016  5209.0  394.0  3072.0  134.0  321.0\n",
       "    2017  4693.0  315.0  3035.0  137.0  243.0\n",
       "    2018  4379.0  357.0  2877.0  160.0  256.0\n",
       "\n",
       "[139 rows x 5 columns]"
      ]
     },
     "execution_count": 30,
     "metadata": {},
     "output_type": "execute_result"
    }
   ],
   "source": [
    "allyears_indexed.loc[('F',claires),:].unstack(level=1)"
   ]
  },
  {
   "cell_type": "code",
   "execution_count": 31,
   "id": "8dabc45d",
   "metadata": {},
   "outputs": [
    {
     "data": {
      "image/png": "[encoded data removed]",
      "text/plain": [
       "<Figure size 1200x250 with 1 Axes>"
      ]
     },
     "metadata": {},
     "output_type": "display_data"
    }
   ],
   "source": [
    "plt.figure(figsize=(12,2.5))\n",
    "plt.stackplot(range(1880,2019),\n",
    "              allyears_indexed.loc[('F',claires),:].unstack(level=2));"
   ]
  },
  {
   "cell_type": "markdown",
   "id": "a058b415",
   "metadata": {},
   "source": [
    "## Top ten names"
   ]
  },
  {
   "cell_type": "code",
   "execution_count": 32,
   "id": "4bf487af",
   "metadata": {},
   "outputs": [],
   "source": [
    "pd.options.display.max_rows = 10"
   ]
  },
  {
   "cell_type": "code",
   "execution_count": 33,
   "id": "e5994c25",
   "metadata": {},
   "outputs": [],
   "source": [
    "allyears = pd.read_csv('allyears.csv.gz')"
   ]
  },
  {
   "cell_type": "code",
   "execution_count": 34,
   "id": "33aa6e92",
   "metadata": {},
   "outputs": [],
   "source": [
    "# index by sex and year only\n",
    "allyears_byyear = allyears.set_index(['sex','year']).sort_index()"
   ]
  },
  {
   "cell_type": "markdown",
   "id": "8cd65746",
   "metadata": {},
   "source": [
    "#### Male names in 2018"
   ]
  },
  {
   "cell_type": "code",
   "execution_count": 35,
   "id": "f9a99d64",
   "metadata": {},
   "outputs": [
    {
     "data": {
      "text/html": [
       "<div>\n",
       "<style scoped>\n",
       "    .dataframe tbody tr th:only-of-type {\n",
       "        vertical-align: middle;\n",
       "    }\n",
       "\n",
       "    .dataframe tbody tr th {\n",
       "        vertical-align: top;\n",
       "    }\n",
       "\n",
       "    .dataframe thead th {\n",
       "        text-align: right;\n",
       "    }\n",
       "</style>\n",
       "<table border=\"1\" class=\"dataframe\">\n",
       "  <thead>\n",
       "    <tr style=\"text-align: right;\">\n",
       "      <th></th>\n",
       "      <th></th>\n",
       "      <th>name</th>\n",
       "      <th>number</th>\n",
       "    </tr>\n",
       "    <tr>\n",
       "      <th>sex</th>\n",
       "      <th>year</th>\n",
       "      <th></th>\n",
       "      <th></th>\n",
       "    </tr>\n",
       "  </thead>\n",
       "  <tbody>\n",
       "    <tr>\n",
       "      <th rowspan=\"11\" valign=\"top\">M</th>\n",
       "      <th>2018</th>\n",
       "      <td>Liam</td>\n",
       "      <td>19837</td>\n",
       "    </tr>\n",
       "    <tr>\n",
       "      <th>2018</th>\n",
       "      <td>Noah</td>\n",
       "      <td>18267</td>\n",
       "    </tr>\n",
       "    <tr>\n",
       "      <th>2018</th>\n",
       "      <td>William</td>\n",
       "      <td>14516</td>\n",
       "    </tr>\n",
       "    <tr>\n",
       "      <th>2018</th>\n",
       "      <td>James</td>\n",
       "      <td>13525</td>\n",
       "    </tr>\n",
       "    <tr>\n",
       "      <th>2018</th>\n",
       "      <td>Oliver</td>\n",
       "      <td>13389</td>\n",
       "    </tr>\n",
       "    <tr>\n",
       "      <th>...</th>\n",
       "      <td>...</td>\n",
       "      <td>...</td>\n",
       "    </tr>\n",
       "    <tr>\n",
       "      <th>2018</th>\n",
       "      <td>Gaylon</td>\n",
       "      <td>5</td>\n",
       "    </tr>\n",
       "    <tr>\n",
       "      <th>2018</th>\n",
       "      <td>Gavynn</td>\n",
       "      <td>5</td>\n",
       "    </tr>\n",
       "    <tr>\n",
       "      <th>2018</th>\n",
       "      <td>Gavon</td>\n",
       "      <td>5</td>\n",
       "    </tr>\n",
       "    <tr>\n",
       "      <th>2018</th>\n",
       "      <td>Gaurav</td>\n",
       "      <td>5</td>\n",
       "    </tr>\n",
       "    <tr>\n",
       "      <th>2018</th>\n",
       "      <td>Zzyzx</td>\n",
       "      <td>5</td>\n",
       "    </tr>\n",
       "  </tbody>\n",
       "</table>\n",
       "<p>14004 rows × 2 columns</p>\n",
       "</div>"
      ],
      "text/plain": [
       "             name  number\n",
       "sex year                 \n",
       "M   2018     Liam   19837\n",
       "    2018     Noah   18267\n",
       "    2018  William   14516\n",
       "    2018    James   13525\n",
       "    2018   Oliver   13389\n",
       "...           ...     ...\n",
       "    2018   Gaylon       5\n",
       "    2018   Gavynn       5\n",
       "    2018    Gavon       5\n",
       "    2018   Gaurav       5\n",
       "    2018    Zzyzx       5\n",
       "\n",
       "[14004 rows x 2 columns]"
      ]
     },
     "execution_count": 35,
     "metadata": {},
     "output_type": "execute_result"
    }
   ],
   "source": [
    "allyears_byyear.loc['M',2018].sort_values('number', ascending=False)"
   ]
  },
  {
   "cell_type": "code",
   "execution_count": 36,
   "id": "7e98f722",
   "metadata": {},
   "outputs": [
    {
     "data": {
      "text/html": [
       "<div>\n",
       "<style scoped>\n",
       "    .dataframe tbody tr th:only-of-type {\n",
       "        vertical-align: middle;\n",
       "    }\n",
       "\n",
       "    .dataframe tbody tr th {\n",
       "        vertical-align: top;\n",
       "    }\n",
       "\n",
       "    .dataframe thead th {\n",
       "        text-align: right;\n",
       "    }\n",
       "</style>\n",
       "<table border=\"1\" class=\"dataframe\">\n",
       "  <thead>\n",
       "    <tr style=\"text-align: right;\">\n",
       "      <th></th>\n",
       "      <th></th>\n",
       "      <th>name</th>\n",
       "      <th>number</th>\n",
       "    </tr>\n",
       "    <tr>\n",
       "      <th>sex</th>\n",
       "      <th>year</th>\n",
       "      <th></th>\n",
       "      <th></th>\n",
       "    </tr>\n",
       "  </thead>\n",
       "  <tbody>\n",
       "    <tr>\n",
       "      <th rowspan=\"10\" valign=\"top\">M</th>\n",
       "      <th>2018</th>\n",
       "      <td>Liam</td>\n",
       "      <td>19837</td>\n",
       "    </tr>\n",
       "    <tr>\n",
       "      <th>2018</th>\n",
       "      <td>Noah</td>\n",
       "      <td>18267</td>\n",
       "    </tr>\n",
       "    <tr>\n",
       "      <th>2018</th>\n",
       "      <td>William</td>\n",
       "      <td>14516</td>\n",
       "    </tr>\n",
       "    <tr>\n",
       "      <th>2018</th>\n",
       "      <td>James</td>\n",
       "      <td>13525</td>\n",
       "    </tr>\n",
       "    <tr>\n",
       "      <th>2018</th>\n",
       "      <td>Oliver</td>\n",
       "      <td>13389</td>\n",
       "    </tr>\n",
       "    <tr>\n",
       "      <th>2018</th>\n",
       "      <td>Benjamin</td>\n",
       "      <td>13381</td>\n",
       "    </tr>\n",
       "    <tr>\n",
       "      <th>2018</th>\n",
       "      <td>Elijah</td>\n",
       "      <td>12886</td>\n",
       "    </tr>\n",
       "    <tr>\n",
       "      <th>2018</th>\n",
       "      <td>Lucas</td>\n",
       "      <td>12585</td>\n",
       "    </tr>\n",
       "    <tr>\n",
       "      <th>2018</th>\n",
       "      <td>Mason</td>\n",
       "      <td>12435</td>\n",
       "    </tr>\n",
       "    <tr>\n",
       "      <th>2018</th>\n",
       "      <td>Logan</td>\n",
       "      <td>12352</td>\n",
       "    </tr>\n",
       "  </tbody>\n",
       "</table>\n",
       "</div>"
      ],
      "text/plain": [
       "              name  number\n",
       "sex year                  \n",
       "M   2018      Liam   19837\n",
       "    2018      Noah   18267\n",
       "    2018   William   14516\n",
       "    2018     James   13525\n",
       "    2018    Oliver   13389\n",
       "    2018  Benjamin   13381\n",
       "    2018    Elijah   12886\n",
       "    2018     Lucas   12585\n",
       "    2018     Mason   12435\n",
       "    2018     Logan   12352"
      ]
     },
     "execution_count": 36,
     "metadata": {},
     "output_type": "execute_result"
    }
   ],
   "source": [
    "# head gives us the top ten\n",
    "allyears_byyear.loc['M',2018].sort_values('number', ascending=False).head(10)"
   ]
  },
  {
   "cell_type": "markdown",
   "id": "727a94b0",
   "metadata": {},
   "source": [
    "#### Female names in 2018"
   ]
  },
  {
   "cell_type": "code",
   "execution_count": 37,
   "id": "525709e1",
   "metadata": {},
   "outputs": [
    {
     "data": {
      "text/html": [
       "<div>\n",
       "<style scoped>\n",
       "    .dataframe tbody tr th:only-of-type {\n",
       "        vertical-align: middle;\n",
       "    }\n",
       "\n",
       "    .dataframe tbody tr th {\n",
       "        vertical-align: top;\n",
       "    }\n",
       "\n",
       "    .dataframe thead th {\n",
       "        text-align: right;\n",
       "    }\n",
       "</style>\n",
       "<table border=\"1\" class=\"dataframe\">\n",
       "  <thead>\n",
       "    <tr style=\"text-align: right;\">\n",
       "      <th></th>\n",
       "      <th></th>\n",
       "      <th>name</th>\n",
       "      <th>number</th>\n",
       "    </tr>\n",
       "    <tr>\n",
       "      <th>sex</th>\n",
       "      <th>year</th>\n",
       "      <th></th>\n",
       "      <th></th>\n",
       "    </tr>\n",
       "  </thead>\n",
       "  <tbody>\n",
       "    <tr>\n",
       "      <th rowspan=\"11\" valign=\"top\">F</th>\n",
       "      <th>2018</th>\n",
       "      <td>Emma</td>\n",
       "      <td>18688</td>\n",
       "    </tr>\n",
       "    <tr>\n",
       "      <th>2018</th>\n",
       "      <td>Olivia</td>\n",
       "      <td>17921</td>\n",
       "    </tr>\n",
       "    <tr>\n",
       "      <th>2018</th>\n",
       "      <td>Ava</td>\n",
       "      <td>14924</td>\n",
       "    </tr>\n",
       "    <tr>\n",
       "      <th>2018</th>\n",
       "      <td>Isabella</td>\n",
       "      <td>14464</td>\n",
       "    </tr>\n",
       "    <tr>\n",
       "      <th>2018</th>\n",
       "      <td>Sophia</td>\n",
       "      <td>13928</td>\n",
       "    </tr>\n",
       "    <tr>\n",
       "      <th>...</th>\n",
       "      <td>...</td>\n",
       "      <td>...</td>\n",
       "    </tr>\n",
       "    <tr>\n",
       "      <th>2018</th>\n",
       "      <td>Ghala</td>\n",
       "      <td>5</td>\n",
       "    </tr>\n",
       "    <tr>\n",
       "      <th>2018</th>\n",
       "      <td>Ghalia</td>\n",
       "      <td>5</td>\n",
       "    </tr>\n",
       "    <tr>\n",
       "      <th>2018</th>\n",
       "      <td>Ghislaine</td>\n",
       "      <td>5</td>\n",
       "    </tr>\n",
       "    <tr>\n",
       "      <th>2018</th>\n",
       "      <td>Giahna</td>\n",
       "      <td>5</td>\n",
       "    </tr>\n",
       "    <tr>\n",
       "      <th>2018</th>\n",
       "      <td>Zyona</td>\n",
       "      <td>5</td>\n",
       "    </tr>\n",
       "  </tbody>\n",
       "</table>\n",
       "<p>18029 rows × 2 columns</p>\n",
       "</div>"
      ],
      "text/plain": [
       "               name  number\n",
       "sex year                   \n",
       "F   2018       Emma   18688\n",
       "    2018     Olivia   17921\n",
       "    2018        Ava   14924\n",
       "    2018   Isabella   14464\n",
       "    2018     Sophia   13928\n",
       "...             ...     ...\n",
       "    2018      Ghala       5\n",
       "    2018     Ghalia       5\n",
       "    2018  Ghislaine       5\n",
       "    2018     Giahna       5\n",
       "    2018      Zyona       5\n",
       "\n",
       "[18029 rows x 2 columns]"
      ]
     },
     "execution_count": 37,
     "metadata": {},
     "output_type": "execute_result"
    }
   ],
   "source": [
    "allyears_byyear.loc['F',2018].sort_values('number', ascending=False)"
   ]
  },
  {
   "cell_type": "code",
   "execution_count": 38,
   "id": "fc8b37e3",
   "metadata": {},
   "outputs": [
    {
     "data": {
      "text/plain": [
       "0        Liam\n",
       "1        Noah\n",
       "2     William\n",
       "3       James\n",
       "4      Oliver\n",
       "5    Benjamin\n",
       "6      Elijah\n",
       "7       Lucas\n",
       "8       Mason\n",
       "9       Logan\n",
       "Name: name, dtype: object"
      ]
     },
     "execution_count": 38,
     "metadata": {},
     "output_type": "execute_result"
    }
   ],
   "source": [
    "allyears_byyear.loc['M',2018].sort_values('number', ascending=False).head(10).reset_index().name"
   ]
  },
  {
   "cell_type": "code",
   "execution_count": 39,
   "id": "58f79483",
   "metadata": {},
   "outputs": [],
   "source": [
    "def getyear(sex, year):\n",
    "    return (allyears_byyear.loc[sex, year]          # select M/F, year\n",
    "            .sort_values('number', ascending=False) # sort by most common\n",
    "            .head(10)                               # only ten\n",
    "            .reset_index()                          # lose the index\n",
    "            .name)                                  # return a name-only series\n",
    "\n"
   ]
  },
  {
   "cell_type": "code",
   "execution_count": 40,
   "id": "f78bbf4f",
   "metadata": {},
   "outputs": [],
   "source": [
    "pd.DataFrame({year: getyear('M', year) for year in range(2010,2019)})"
   ]
  },
  {
   "cell_type": "code",
   "execution_count": 41,
   "id": "51e70fa6",
   "metadata": {},
   "outputs": [],
   "source": [
    "pd.DataFrame({year: getyear('F', year) for year in range(2010,2019)})"
   ]
  },
  {
   "cell_type": "code",
   "execution_count": 42,
   "id": "44578bf8",
   "metadata": {},
   "outputs": [],
   "source": [
    "def plotname(sex, name):\n",
    "    data = allyears.query('sex == @sex and name == @name')\n",
    "    \n",
    "    plt.plot(data.year, data.number, label=name)\n",
    "    plt.axis(xmin=1880, xmax=2018)"
   ]
  },
  {
   "cell_type": "markdown",
   "id": "7fd037f0",
   "metadata": {},
   "source": [
    "#### Top ten most popular female names in 2018"
   ]
  },
  {
   "cell_type": "code",
   "execution_count": 43,
   "id": "c9940c20",
   "metadata": {},
   "outputs": [],
   "source": [
    "plt.figure(figsize=(12,2.5))\n",
    "\n",
    "for name in getyear('F',2018):\n",
    "    plotname('F', name)\n",
    "\n",
    "plt.legend()"
   ]
  },
  {
   "cell_type": "markdown",
   "id": "e46f4943",
   "metadata": {},
   "source": [
    "Almost all of the top ten baby girl names have surged in more recent years, other than Evelyn, which surged in the 1920's."
   ]
  },
  {
   "cell_type": "markdown",
   "id": "a3177476",
   "metadata": {},
   "source": [
    "#### Top ten most popular male names in 2018"
   ]
  },
  {
   "cell_type": "code",
   "execution_count": 44,
   "id": "6fa7eb13",
   "metadata": {},
   "outputs": [],
   "source": [
    "plt.figure(figsize=(12,2.5))\n",
    "\n",
    "for name in getyear('M',2018):\n",
    "    plotname('M',name)\n",
    "    \n",
    "plt.legend()"
   ]
  },
  {
   "cell_type": "markdown",
   "id": "d0906d5e",
   "metadata": {},
   "source": [
    "Over the years, the names \"William\" and \"James\" are very high, specifically throughout the 20th century. \n",
    "\n",
    "Since they dominate the chart, we want to be able to visulaize the rest of the names without these two.\n",
    "We will exclude them by explicitly calling the other names."
   ]
  },
  {
   "cell_type": "code",
   "execution_count": 45,
   "id": "0ce02b1c",
   "metadata": {},
   "outputs": [],
   "source": [
    "list(getyear('M',2018))"
   ]
  },
  {
   "cell_type": "code",
   "execution_count": 46,
   "id": "cf3dd9fa",
   "metadata": {
    "scrolled": true
   },
   "outputs": [],
   "source": [
    "plt.figure(figsize=(12,2.5))\n",
    "\n",
    "for name in ['Liam', 'Noah', 'Oliver', 'Benjamin', 'Elijah', 'Lucas', 'Mason', 'Logan']:\n",
    "    plotname('M', name)\n",
    "    \n",
    "plt.legend()"
   ]
  },
  {
   "cell_type": "markdown",
   "id": "d125b0ba",
   "metadata": {},
   "source": [
    "Exluding \"William\" and \"James,\" the most popular names in 2018 are names that have become popular in more recent years."
   ]
  },
  {
   "cell_type": "markdown",
   "id": "44f0565d",
   "metadata": {},
   "source": [
    "#### All time favorites, by female"
   ]
  },
  {
   "cell_type": "code",
   "execution_count": 47,
   "id": "01c1ccb1",
   "metadata": {},
   "outputs": [],
   "source": [
    "alltime_f = allyears_byyear.loc['F'].groupby('name').sum().sort_values('number', ascending=False).head(10)"
   ]
  },
  {
   "cell_type": "code",
   "execution_count": 48,
   "id": "830f614e",
   "metadata": {},
   "outputs": [],
   "source": [
    "alltime_f"
   ]
  },
  {
   "cell_type": "markdown",
   "id": "23519032",
   "metadata": {},
   "source": [
    "### Popularity over time\n"
   ]
  },
  {
   "cell_type": "code",
   "execution_count": 49,
   "id": "d2c9975e",
   "metadata": {
    "scrolled": true
   },
   "outputs": [],
   "source": [
    "plt.figure(figsize=(12,2.5))\n",
    "\n",
    "for name in alltime_f.index: #looping over index, rather than value\n",
    "    plotname('F', name)\n",
    "\n",
    "plt.legend()"
   ]
  },
  {
   "cell_type": "markdown",
   "id": "e03906c5",
   "metadata": {},
   "source": [
    "Other than \"Jennifer,\" the all time most popular girl names have gained their popularity in the first half of the 20th century.\n",
    "\n",
    "\"Jennifer\", however, gained its popularity in the 1980's."
   ]
  },
  {
   "cell_type": "markdown",
   "id": "4a50a27e",
   "metadata": {},
   "source": [
    "## Unisex names\n",
    "What are the top ten most common unisex names for both males and females over time?"
   ]
  },
  {
   "cell_type": "code",
   "execution_count": 50,
   "id": "7795a3ec",
   "metadata": {},
   "outputs": [],
   "source": [
    "#original dataframe\n",
    "allyears = pd.read_csv('allyears.csv.gz')"
   ]
  },
  {
   "cell_type": "code",
   "execution_count": 51,
   "id": "d0474ecf",
   "metadata": {},
   "outputs": [],
   "source": [
    "# total number of boys and girls for a given name \n",
    "totals = allyears.groupby(['sex','name']).number.sum()\n",
    "# groupby segments the data before applying an aggregation (in this case, sum of the number of babies) "
   ]
  },
  {
   "cell_type": "code",
   "execution_count": 52,
   "id": "9b01578b",
   "metadata": {},
   "outputs": [],
   "source": [
    "totals"
   ]
  },
  {
   "cell_type": "code",
   "execution_count": 53,
   "id": "2fe28b36",
   "metadata": {},
   "outputs": [],
   "source": [
    "# separation of male and female names\n",
    "male, female = totals.loc['M'], totals.loc['F']"
   ]
  },
  {
   "cell_type": "code",
   "execution_count": 54,
   "id": "6cb32e7c",
   "metadata": {
    "scrolled": true
   },
   "outputs": [],
   "source": [
    "male"
   ]
  },
  {
   "cell_type": "code",
   "execution_count": 55,
   "id": "b1834139",
   "metadata": {},
   "outputs": [],
   "source": [
    "female"
   ]
  },
  {
   "cell_type": "code",
   "execution_count": 56,
   "id": "7e3595df",
   "metadata": {},
   "outputs": [],
   "source": [
    "# the two series are separate but we can combine them togethter\n",
    "# pandas will align the indices for us\n",
    "totals.loc['M'] / totals.loc['F'] < 2"
   ]
  },
  {
   "cell_type": "code",
   "execution_count": 57,
   "id": "be8fad15",
   "metadata": {},
   "outputs": [],
   "source": [
    "ratios = (totals.loc['M'] / totals.loc['F']).dropna()"
   ]
  },
  {
   "cell_type": "markdown",
   "id": "4c8a7857",
   "metadata": {},
   "source": [
    "To define what it means for a name to be \"unisex\", we will say that the ratio of the male usage for a given name to the female usage for a given name is >0.5 and <2. "
   ]
  },
  {
   "cell_type": "code",
   "execution_count": 58,
   "id": "3b4c408f",
   "metadata": {},
   "outputs": [],
   "source": [
    "ratios[(ratios > 0.5) & (ratios < 2)]"
   ]
  },
  {
   "cell_type": "code",
   "execution_count": 59,
   "id": "6217ad63",
   "metadata": {},
   "outputs": [],
   "source": [
    "# we take index because we want just the names, and not the ratios themselves\n",
    "unisex = ratios[(ratios > 0.5) & (ratios < 2)].index"
   ]
  },
  {
   "cell_type": "code",
   "execution_count": 60,
   "id": "a61bebfd",
   "metadata": {},
   "outputs": [],
   "source": [
    "unisex"
   ]
  },
  {
   "cell_type": "markdown",
   "id": "23c1e091",
   "metadata": {},
   "source": [
    "#### Most common unisex names"
   ]
  },
  {
   "cell_type": "code",
   "execution_count": 61,
   "id": "9638adfe",
   "metadata": {},
   "outputs": [],
   "source": [
    "common = (male.loc[unisex] + female.loc[unisex]).sort_values(ascending=False).head(10)"
   ]
  },
  {
   "cell_type": "code",
   "execution_count": 62,
   "id": "228871d5",
   "metadata": {},
   "outputs": [],
   "source": [
    "common"
   ]
  },
  {
   "cell_type": "code",
   "execution_count": 63,
   "id": "43446baa",
   "metadata": {},
   "outputs": [],
   "source": [
    "# use a fully indexed frame to plot popularity\n",
    "allyears_indexed = allyears.set_index(['sex','name','year']).sort_index()"
   ]
  },
  {
   "cell_type": "code",
   "execution_count": 64,
   "id": "6acb161a",
   "metadata": {},
   "outputs": [],
   "source": [
    "plt.figure(figsize=(9,9))\n",
    "\n",
    "for i, name in enumerate(common.index): #loop over most common unisex names (which is the index of the most common series)\n",
    "    plt.subplot(5,2,i+1) \n",
    "    # plot by selecting male or female in the name\n",
    "    plt.plot(allyears_indexed.loc['M',name], label='M') \n",
    "    plt.plot(allyears_indexed.loc['F',name], label='F')\n",
    "    \n",
    "    plt.legend()\n",
    "    plt.title(name)\n",
    "    \n",
    "plt.tight_layout()"
   ]
  },
  {
   "cell_type": "markdown",
   "id": "4c7af805",
   "metadata": {},
   "source": [
    "### Insights from the charts\n",
    "* While \"Jessie\" is the total most popular unisex name, it has become less popular over time\n",
    "* Over time, \"Riley\" has become more popular for females, but has gone down for males\n",
    "* \"Casey\" may be the \"most unisex\" name because its popularity for boys and girls track very closely over time"
   ]
  }
 ],
 "metadata": {
  "kernelspec": {
   "display_name": "Python 3 (ipykernel)",
   "language": "python",
   "name": "python3"
  },
  "language_info": {
   "codemirror_mode": {
    "name": "ipython",
    "version": 3
   },
   "file_extension": ".py",
   "mimetype": "text/x-python",
   "name": "python",
   "nbconvert_exporter": "python",
   "pygments_lexer": "ipython3",
   "version": "3.11.3"
  }
 },
 "nbformat": 4,
 "nbformat_minor": 5
}
